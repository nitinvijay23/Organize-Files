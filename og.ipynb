{
 "cells": [
  {
   "cell_type": "markdown",
   "metadata": {},
   "source": [
    "# Organize files in the folder\n",
    "\n",
    "Organize files by moving them to a new folder as per their last modified time.\n",
    "\n",
    "It will basically move all the files modified on a particular date to a folder modified date.\n"
   ]
  },
  {
   "cell_type": "code",
   "execution_count": 48,
   "metadata": {
    "collapsed": false
   },
   "outputs": [
    {
     "name": "stdout",
     "output_type": "stream",
     "text": [
      "20\n"
     ]
    }
   ],
   "source": [
    "import os\n",
    "import shutil\n",
    "import os.path, time\n",
    "from datetime import datetime\n",
    "\n",
    "path = 'C:\\\\Users\\\\NITIN\\\\Desktop\\\\New folder'\n",
    "\n",
    "lis = os.listdir(path)\n",
    "lis.sort(key=lambda x: os.stat(os.path.join(path, x)).st_mtime)\n",
    "\n",
    "# List only the files in the folder\n",
    "files = [f for f in os.listdir(path) if os.path.isfile(os.path.join(path, f))]\n"
   ]
  },
  {
   "cell_type": "code",
   "execution_count": 51,
   "metadata": {
    "collapsed": false
   },
   "outputs": [
    {
     "name": "stdout",
     "output_type": "stream",
     "text": [
      "8-4-2016\n",
      "24-7-2016\n",
      "24-7-2016\n",
      "24-7-2016\n",
      "24-7-2016\n",
      "24-7-2016\n",
      "24-7-2016\n",
      "24-7-2016\n",
      "24-7-2016\n",
      "24-7-2016\n",
      "24-7-2016\n",
      "24-7-2016\n",
      "24-7-2016\n",
      "24-7-2016\n",
      "24-7-2016\n",
      "24-7-2016\n",
      "24-7-2016\n",
      "8-4-2016\n"
     ]
    }
   ],
   "source": [
    "# change the current path \n",
    "os.chdir(path)\n",
    "for x in files:\n",
    "    # Get the last modified time and the creation time\n",
    "    creation_time_string = time.ctime(os.path.getmtime(os.path.join(path, x)))\n",
    "    modified_time_string = time.ctime(os.path.getmtime(os.path.join(path, x)))\n",
    "    creation_datetime_obj = datetime.strptime(creation_time_string, '%a %b %d %H:%M:%S %Y')\n",
    "    modified_datetime_obj = datetime.strptime(modified_time_string, '%a %b %d %H:%M:%S %Y')\n",
    "    modified_date  = str(modified_datetime_obj.day) + '-' + str(modified_datetime_obj.month) + '-' + str(modified_datetime_obj.year)\n",
    "    # print(modified_date)\n",
    "    \n",
    "    if(os.path.isdir(modified_date)):\n",
    "         shutil.move(os.path.join(path, x), modified_date)\n",
    "    else:\n",
    "        os.makedirs(modified_date)\n",
    "        shutil.move(os.path.join(path, x), modified_date)"
   ]
  }
 ],
 "metadata": {
  "anaconda-cloud": {},
  "kernelspec": {
   "display_name": "Python [Root]",
   "language": "python",
   "name": "Python [Root]"
  },
  "language_info": {
   "codemirror_mode": {
    "name": "ipython",
    "version": 3
   },
   "file_extension": ".py",
   "mimetype": "text/x-python",
   "name": "python",
   "nbconvert_exporter": "python",
   "pygments_lexer": "ipython3",
   "version": "3.5.2"
  }
 },
 "nbformat": 4,
 "nbformat_minor": 0
}
